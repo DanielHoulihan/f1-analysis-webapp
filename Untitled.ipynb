{
 "cells": [
  {
   "cell_type": "code",
   "execution_count": 10,
   "id": "581f8fa0",
   "metadata": {},
   "outputs": [
    {
     "name": "stdout",
     "output_type": "stream",
     "text": [
      "https://ergast.com/api/f1/2018/results.json?limit=500\n",
      "https://ergast.com/api/f1/2019/results.json?limit=500\n",
      "https://ergast.com/api/f1/2020/results.json?limit=500\n",
      "https://ergast.com/api/f1/2021/results.json?limit=500\n",
      "https://ergast.com/api/f1/2022/results.json?limit=500\n"
     ]
    }
   ],
   "source": [
    "import requests\n",
    "\n",
    "\n",
    "for year in range(2018, 2023):\n",
    "# Retrieve data from the API for each year\n",
    "    url = f'https://ergast.com/api/f1/%s/results.json?limit=500' % year\n",
    "    response = requests.get(url)\n",
    "    print(url)\n",
    "    data = response.json()\n",
    "\n",
    "    # Retrieve data from the API\n",
    "    response = requests.get(url)\n",
    "    data = response.json()"
   ]
  }
 ],
 "metadata": {
  "kernelspec": {
   "display_name": "Python 3 (ipykernel)",
   "language": "python",
   "name": "python3"
  },
  "language_info": {
   "codemirror_mode": {
    "name": "ipython",
    "version": 3
   },
   "file_extension": ".py",
   "mimetype": "text/x-python",
   "name": "python",
   "nbconvert_exporter": "python",
   "pygments_lexer": "ipython3",
   "version": "3.9.12"
  }
 },
 "nbformat": 4,
 "nbformat_minor": 5
}
